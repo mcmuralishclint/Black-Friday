{
 "cells": [
  {
   "cell_type": "code",
   "execution_count": 2,
   "metadata": {},
   "outputs": [
    {
     "name": "stderr",
     "output_type": "stream",
     "text": [
      "C:\\Users\\muralish\\Miniconda3\\lib\\site-packages\\sklearn\\ensemble\\weight_boosting.py:29: DeprecationWarning: numpy.core.umath_tests is an internal NumPy module and should not be imported. It will be removed in a future NumPy release.\n",
      "  from numpy.core.umath_tests import inner1d\n"
     ]
    }
   ],
   "source": [
    "import pandas as pd\n",
    "import numpy as np\n",
    "from sklearn.linear_model import Ridge\n",
    "import matplotlib.pyplot as plt\n",
    "from sklearn.ensemble import RandomForestRegressor\n",
    "from sklearn.datasets import make_regression\n",
    "from sklearn.metrics import mean_squared_error\n",
    "from sklearn.model_selection import train_test_split\n",
    "from sklearn.linear_model import Lasso\n",
    "from sklearn.base import BaseEstimator, TransformerMixin, RegressorMixin, clone\n",
    "from sklearn import ensemble, metrics\n",
    "from sklearn import linear_model, preprocessing\n",
    "from sklearn.model_selection import cross_val_score, cross_val_predict\n",
    "from sklearn.model_selection import GridSearchCV, KFold\n",
    "from sklearn.model_selection import ShuffleSplit\n",
    "from sklearn.kernel_ridge import KernelRidge\n",
    "from sklearn.preprocessing import StandardScaler"
   ]
  },
  {
   "cell_type": "markdown",
   "metadata": {},
   "source": [
    "-The data was tested using scaled x variables and un scaled x variables"
   ]
  },
  {
   "cell_type": "code",
   "execution_count": 3,
   "metadata": {},
   "outputs": [],
   "source": [
    "x = pd.read_csv('x.csv') #X variable of training data\n",
    "y = pd.read_csv('y.csv') #Y variable of training data\n",
    "test = pd.read_csv('test-final.csv') #Final Testing data"
   ]
  },
  {
   "cell_type": "code",
   "execution_count": 5,
   "metadata": {},
   "outputs": [],
   "source": [
    "#Scaling test data\n",
    "sc_x = StandardScaler()\n",
    "test_scaled = sc_x.fit_transform(test)"
   ]
  },
  {
   "cell_type": "code",
   "execution_count": 6,
   "metadata": {},
   "outputs": [],
   "source": [
    "#Scaling training X\n",
    "ss= StandardScaler()\n",
    "x_copy = ss.fit_transform(x)"
   ]
  },
  {
   "cell_type": "code",
   "execution_count": 7,
   "metadata": {},
   "outputs": [],
   "source": [
    "#Splitting data into train and test\n",
    "x_train,x_test,y_train,y_test = train_test_split(x,y,test_size = 0.33)\n",
    "x_train_scaled,x_test_scaled,y_train_scaled,y_test_scaled = train_test_split(x_copy,y,test_size = 0.33)"
   ]
  },
  {
   "cell_type": "markdown",
   "metadata": {},
   "source": [
    "## Random Forest"
   ]
  },
  {
   "cell_type": "code",
   "execution_count": null,
   "metadata": {},
   "outputs": [],
   "source": [
    "for i in np.linspace(5,x.shape[1],5):\n",
    "    i =  (int(round(i)))\n",
    "    regr = RandomForestRegressor(max_depth=10, random_state=0,\n",
    "                            n_estimators=100,max_features = i)\n",
    "    regr.fit(x_train,y_train)\n",
    "    y_pred = regr.predict(x_test)\n",
    "    print('For ' +  str(i) + ' features : ' + str(np.sqrt(mean_squared_error(y_test,y_pred))))"
   ]
  },
  {
   "cell_type": "markdown",
   "metadata": {},
   "source": [
    "## Ridge and Lasso training"
   ]
  },
  {
   "cell_type": "code",
   "execution_count": null,
   "metadata": {},
   "outputs": [],
   "source": [
    "from sklearn.linear_model import LinearRegression\n",
    "lr = LinearRegression()\n",
    "lr.fit(x_train,y_train)\n",
    "y_pred = lr.predict(x_test)\n",
    "np.sqrt(mean_squared_error(y_test,y_pred))"
   ]
  },
  {
   "cell_type": "code",
   "execution_count": 8,
   "metadata": {},
   "outputs": [
    {
     "name": "stdout",
     "output_type": "stream",
     "text": [
      "The RMSE (un- scaled) for alpha:0.1 is 0.3348111255166395\n",
      "The RMSE (scaled) for alpha:0.1 is 2552.882212900282\n",
      "\n",
      "The RMSE (un- scaled) for alpha:10 is 0.3348545109864745\n",
      "The RMSE (scaled) for alpha:10 is 2552.8812086099983\n",
      "\n",
      "The RMSE (un- scaled) for alpha:100 is 0.33649788580841955\n",
      "The RMSE (scaled) for alpha:100 is 2552.8740636541397\n",
      "\n",
      "The RMSE (un- scaled) for alpha:1000 is 0.36165865329015395\n",
      "The RMSE (scaled) for alpha:1000 is 2552.9765450463606\n",
      "\n"
     ]
    }
   ],
   "source": [
    "iter_range = [0.1,10,100,1000]\n",
    "for i in iter_range:\n",
    "    clf = Ridge(alpha=i)\n",
    "    clf.fit(x_train, np.log(y_train)) \n",
    "    y_pred = clf.predict(x_test)\n",
    "    score = np.sqrt(mean_squared_error(np.log(y_test),y_pred))\n",
    "    print('The RMSE (un- scaled) for alpha:' + str(i) + ' is ' + str(score))\n",
    "    \n",
    "    clf = Ridge(alpha=i)\n",
    "    clf.fit(x_train_scaled, y_train_scaled) \n",
    "    y_pred_scaled = clf.predict(x_test_scaled)\n",
    "    score_scaled = np.sqrt(mean_squared_error(y_test_scaled,y_pred_scaled))\n",
    "    print('The RMSE (scaled) for alpha:' + str(i) + ' is ' + str(score_scaled) + '\\n')"
   ]
  },
  {
   "cell_type": "code",
   "execution_count": 11,
   "metadata": {},
   "outputs": [],
   "source": [
    "clf = Ridge(alpha=10)\n",
    "clf.fit(x_copy, y) \n",
    "y_pred = clf.predict(test_scaled)"
   ]
  },
  {
   "cell_type": "code",
   "execution_count": 13,
   "metadata": {},
   "outputs": [
    {
     "data": {
      "text/plain": [
       "array([[17883.05641521],\n",
       "       [11925.0221973 ],\n",
       "       [ 6248.78909919],\n",
       "       ...,\n",
       "       [ 9822.32478341],\n",
       "       [18327.58277099],\n",
       "       [ 2380.53097187]])"
      ]
     },
     "execution_count": 13,
     "metadata": {},
     "output_type": "execute_result"
    }
   ],
   "source": [
    "y_pred"
   ]
  },
  {
   "cell_type": "markdown",
   "metadata": {},
   "source": [
    "## Submission"
   ]
  },
  {
   "cell_type": "code",
   "execution_count": 14,
   "metadata": {},
   "outputs": [],
   "source": [
    "np.savetxt(\"pred.csv\", y_pred, delimiter=\",\")"
   ]
  }
 ],
 "metadata": {
  "kernelspec": {
   "display_name": "Python 3",
   "language": "python",
   "name": "python3"
  },
  "language_info": {
   "codemirror_mode": {
    "name": "ipython",
    "version": 3
   },
   "file_extension": ".py",
   "mimetype": "text/x-python",
   "name": "python",
   "nbconvert_exporter": "python",
   "pygments_lexer": "ipython3",
   "version": "3.7.0"
  }
 },
 "nbformat": 4,
 "nbformat_minor": 2
}
